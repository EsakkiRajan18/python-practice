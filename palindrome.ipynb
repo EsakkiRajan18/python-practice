{
 "cells": [
  {
   "cell_type": "code",
   "execution_count": 4,
   "id": "0dd946f3-05f9-46d5-ba0d-b132b7e96f82",
   "metadata": {},
   "outputs": [
    {
     "name": "stdin",
     "output_type": "stream",
     "text": [
      " malayalam\n"
     ]
    },
    {
     "name": "stdout",
     "output_type": "stream",
     "text": [
      "m\n",
      "am\n",
      "lam\n",
      "alam\n",
      "yalam\n",
      "ayalam\n",
      "layalam\n",
      "alayalam\n",
      "malayalam\n",
      "Reversed Text: malayalam\n",
      "The given string is palindrome\n"
     ]
    }
   ],
   "source": [
    "text=str(input())\n",
    "rev_text=\"\"\n",
    "for j in text:\n",
    "    rev_text=j+rev_text\n",
    "    print(rev_text)\n",
    "print(\"Reversed Text:\",rev_text)\n",
    "\n",
    "if text==rev_text:\n",
    "    print(\"The given string is palindrome\")\n",
    "else:\n",
    "    print(\"The given string is not palindrome\")"
   ]
  },
  {
   "cell_type": "code",
   "execution_count": null,
   "id": "0f5d3c2d-7df2-4bd9-ada7-f6a568a19c5d",
   "metadata": {},
   "outputs": [],
   "source": []
  }
 ],
 "metadata": {
  "kernelspec": {
   "display_name": "Python 3 (ipykernel)",
   "language": "python",
   "name": "python3"
  },
  "language_info": {
   "codemirror_mode": {
    "name": "ipython",
    "version": 3
   },
   "file_extension": ".py",
   "mimetype": "text/x-python",
   "name": "python",
   "nbconvert_exporter": "python",
   "pygments_lexer": "ipython3",
   "version": "3.12.4"
  }
 },
 "nbformat": 4,
 "nbformat_minor": 5
}
