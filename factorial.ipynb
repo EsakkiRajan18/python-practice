{
 "cells": [
  {
   "cell_type": "code",
   "execution_count": null,
   "id": "4b6dee8d-28cc-43fe-a82e-5dbad31c56b9",
   "metadata": {},
   "outputs": [],
   "source": [
    "n=int(input(\"Enter the number\"))\n",
    "fact=1\n",
    "for i in range(1,n+1):\n",
    "    fact=fact*i\n",
    "print(fact)"
   ]
  }
 ],
 "metadata": {
  "kernelspec": {
   "display_name": "Python 3 (ipykernel)",
   "language": "python",
   "name": "python3"
  },
  "language_info": {
   "codemirror_mode": {
    "name": "ipython",
    "version": 3
   },
   "file_extension": ".py",
   "mimetype": "text/x-python",
   "name": "python",
   "nbconvert_exporter": "python",
   "pygments_lexer": "ipython3",
   "version": "3.12.4"
  }
 },
 "nbformat": 4,
 "nbformat_minor": 5
}
